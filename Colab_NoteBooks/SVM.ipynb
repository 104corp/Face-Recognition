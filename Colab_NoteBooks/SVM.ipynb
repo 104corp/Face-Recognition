{
  "nbformat": 4,
  "nbformat_minor": 0,
  "metadata": {
    "orig_nbformat": 2,
    "colab": {
      "name": "SVM.ipynb",
      "provenance": [],
      "collapsed_sections": []
    },
    "kernelspec": {
      "name": "python3",
      "display_name": "Python 3"
    }
  },
  "cells": [
    {
      "cell_type": "code",
      "metadata": {
        "id": "GtvkiUM4OZNi",
        "colab_type": "code",
        "colab": {
          "base_uri": "https://localhost:8080/",
          "height": 120
        },
        "outputId": "f30c7ba0-7f65-491d-ec57-ead1bd884447"
      },
      "source": [
        "from google.colab import drive\n",
        "drive.mount('/content/drive')"
      ],
      "execution_count": 1,
      "outputs": [
        {
          "output_type": "stream",
          "text": [
            "Go to this URL in a browser: https://accounts.google.com/o/oauth2/auth?client_id=947318989803-6bn6qk8qdgf4n4g3pfee6491hc0brc4i.apps.googleusercontent.com&redirect_uri=urn%3aietf%3awg%3aoauth%3a2.0%3aoob&scope=email%20https%3a%2f%2fwww.googleapis.com%2fauth%2fdocs.test%20https%3a%2f%2fwww.googleapis.com%2fauth%2fdrive%20https%3a%2f%2fwww.googleapis.com%2fauth%2fdrive.photos.readonly%20https%3a%2f%2fwww.googleapis.com%2fauth%2fpeopleapi.readonly&response_type=code\n",
            "\n",
            "Enter your authorization code:\n",
            "··········\n",
            "Mounted at /content/drive\n"
          ],
          "name": "stdout"
        }
      ]
    },
    {
      "cell_type": "code",
      "metadata": {
        "id": "pw7HpwGeePQX",
        "colab_type": "code",
        "colab": {}
      },
      "source": [
        "!unzip '/content/drive/My Drive/Colab Notebooks/1332faces.zip' -d '/content/imgData'"
      ],
      "execution_count": null,
      "outputs": []
    },
    {
      "cell_type": "code",
      "metadata": {
        "id": "HL2jpB1peRt0",
        "colab_type": "code",
        "colab": {}
      },
      "source": [
        "from PIL import Image\n",
        "import numpy as np\n",
        "import glob"
      ],
      "execution_count": 3,
      "outputs": []
    },
    {
      "cell_type": "code",
      "metadata": {
        "id": "JZS7P8CLtP8y",
        "colab_type": "code",
        "colab": {}
      },
      "source": [
        "cwd = '/content/imgData/dataset'\n",
        "image_list_part1 = []\n",
        "data_list = []\n",
        "# for filename in glob.glob(cwd + \"//0001-3000//*.jpg\"):\n",
        "#     im = Image.open(filename)\n",
        "#     image_list_part1.append(im)\n",
        "#     print(im.size)\n",
        "#     data_list.append(np.asarray(im))\n",
        "\n",
        "# image_list_part2 = []\n",
        "# for filename in glob.glob(cwd + \"//3001-6000//*.jpg\"):\n",
        "#     im = Image.open(filename)\n",
        "#     image_list_part2.append(im)\n",
        "#     print(im.size)\n",
        "#     data_list.append(np.asarray(im))\n",
        "\n",
        "# image_list_part3 = []\n",
        "# for filename in glob.glob(cwd + \"//6001-9000//*.jpg\"):\n",
        "#     im = Image.open(filename)\n",
        "#     image_list_part3.append(im)\n",
        "#     print(im.size)\n",
        "#     data_list.append(np.asarray(im))\n",
        "\n",
        "# image_list_part4 = []\n",
        "# for filename in glob.glob(cwd + \"//9001-13322//*.jpg\"):\n",
        "#     im = Image.open(filename)\n",
        "#     image_list_part4.append(im)\n",
        "#     print(im.size)\n",
        "#     data_list.append(np.asarray(im))"
      ],
      "execution_count": 32,
      "outputs": []
    },
    {
      "cell_type": "code",
      "metadata": {
        "id": "mLcJghE1A1x6",
        "colab_type": "code",
        "colab": {}
      },
      "source": [
        "\n",
        "# You just need to compare the aspect ratios - depending on which is larger, that will tell you whether to chop off the sides or the top and bottom. e.g. how about:\n",
        "\n",
        "def resizeImg(image, ideal_width, ideal_height):\n",
        "  width  = image.size[0]\n",
        "  height = image.size[1]\n",
        "  aspect = width / float(height)\n",
        "  ideal_aspect = ideal_width / float(ideal_height)\n",
        "  if aspect > ideal_aspect:\n",
        "      # Then crop the left and right edges:\n",
        "      new_width = int(ideal_aspect * height)\n",
        "      offset = (width - new_width) / 2\n",
        "      resize = (offset, 0, width - offset, height)\n",
        "  else:\n",
        "      # ... crop the top and bottom:\n",
        "      new_height = int(width / ideal_aspect)\n",
        "      offset = (height - new_height) / 2\n",
        "      resize = (0, offset, width, height - offset)\n",
        "  thumb = image.crop(resize).resize((ideal_width, ideal_height), Image.ANTIALIAS)\n",
        "  return thumb"
      ],
      "execution_count": 34,
      "outputs": []
    },
    {
      "cell_type": "code",
      "metadata": {
        "id": "FS_dMuObwyJk",
        "colab_type": "code",
        "colab": {
          "base_uri": "https://localhost:8080/",
          "height": 50
        },
        "outputId": "6d4f39ff-edf8-4dae-9861-71ca58ff8f40"
      },
      "source": [
        "print(len(data_list))\n",
        "testCat = Image.open(cwd + \"//testCat.jpg\")\n",
        "exampleImage = resizeImg(image = testCat, ideal_width = 64, ideal_height = 64)\n",
        "print(exampleImage)"
      ],
      "execution_count": 45,
      "outputs": [
        {
          "output_type": "stream",
          "text": [
            "1\n",
            "<PIL.Image.Image image mode=RGB size=64x64 at 0x7F67CE42F208>\n"
          ],
          "name": "stdout"
        }
      ]
    },
    {
      "cell_type": "code",
      "metadata": {
        "id": "86v2KvOLDRrj",
        "colab_type": "code",
        "colab": {
          "base_uri": "https://localhost:8080/",
          "height": 50
        },
        "outputId": "d30ef158-abad-4ea1-e4bb-8c081d2c7452"
      },
      "source": [
        "print(exampleImage)\n",
        "print(type(exampleImage))\n",
        "\n",
        "image_sequence = exampleImage.getdata()\n",
        "image_array = np.array(image_sequence)"
      ],
      "execution_count": 46,
      "outputs": [
        {
          "output_type": "stream",
          "text": [
            "<PIL.Image.Image image mode=RGB size=64x64 at 0x7F67CE42F208>\n",
            "<class 'PIL.Image.Image'>\n"
          ],
          "name": "stdout"
        }
      ]
    },
    {
      "cell_type": "code",
      "metadata": {
        "id": "n6W32rp9DxJ5",
        "colab_type": "code",
        "colab": {
          "base_uri": "https://localhost:8080/",
          "height": 50
        },
        "outputId": "a9517053-09e9-4faa-d1dc-3c66fd9b64c2"
      },
      "source": [
        "print(type(image_array))\n",
        "print(image_array.shape)"
      ],
      "execution_count": 47,
      "outputs": [
        {
          "output_type": "stream",
          "text": [
            "<class 'numpy.ndarray'>\n",
            "(4096, 3)\n"
          ],
          "name": "stdout"
        }
      ]
    },
    {
      "cell_type": "code",
      "metadata": {
        "id": "MEwfGNjGN_fJ",
        "colab_type": "code",
        "colab": {
          "base_uri": "https://localhost:8080/",
          "height": 230
        },
        "outputId": "3a86532e-91e6-422e-d087-1eccc3473883"
      },
      "source": [
        "trainX = []\n",
        "for pixels in data_list:\n",
        "  print('Min: %.3f, Max: %.3f' % (pixels.min(), pixels.max()))\n",
        "  # convert from integers to floats\n",
        "  pixels = pixels.astype('float32')\n",
        "  # normalize to the range 0-1\n",
        "  pixels /= 255.0\n",
        "  # confirm the normalization\n",
        "  print('Min: %.3f, Max: %.3f' % (pixels.min(), pixels.max()))\n",
        "  trainX.append(pixels)\n"
      ],
      "execution_count": 39,
      "outputs": [
        {
          "output_type": "error",
          "ename": "AttributeError",
          "evalue": "ignored",
          "traceback": [
            "\u001b[0;31m---------------------------------------------------------------------------\u001b[0m",
            "\u001b[0;31mAttributeError\u001b[0m                            Traceback (most recent call last)",
            "\u001b[0;32m<ipython-input-39-3df39adff75d>\u001b[0m in \u001b[0;36m<module>\u001b[0;34m()\u001b[0m\n\u001b[1;32m      2\u001b[0m \u001b[0mdata_list\u001b[0m\u001b[0;34m.\u001b[0m\u001b[0mappend\u001b[0m\u001b[0;34m(\u001b[0m\u001b[0mexampleImage\u001b[0m\u001b[0;34m)\u001b[0m\u001b[0;34m\u001b[0m\u001b[0;34m\u001b[0m\u001b[0m\n\u001b[1;32m      3\u001b[0m \u001b[0;32mfor\u001b[0m \u001b[0mpixels\u001b[0m \u001b[0;32min\u001b[0m \u001b[0mdata_list\u001b[0m\u001b[0;34m:\u001b[0m\u001b[0;34m\u001b[0m\u001b[0;34m\u001b[0m\u001b[0m\n\u001b[0;32m----> 4\u001b[0;31m   \u001b[0mprint\u001b[0m\u001b[0;34m(\u001b[0m\u001b[0;34m'Min: %.3f, Max: %.3f'\u001b[0m \u001b[0;34m%\u001b[0m \u001b[0;34m(\u001b[0m\u001b[0mpixels\u001b[0m\u001b[0;34m.\u001b[0m\u001b[0mmin\u001b[0m\u001b[0;34m(\u001b[0m\u001b[0;34m)\u001b[0m\u001b[0;34m,\u001b[0m \u001b[0mpixels\u001b[0m\u001b[0;34m.\u001b[0m\u001b[0mmax\u001b[0m\u001b[0;34m(\u001b[0m\u001b[0;34m)\u001b[0m\u001b[0;34m)\u001b[0m\u001b[0;34m)\u001b[0m\u001b[0;34m\u001b[0m\u001b[0;34m\u001b[0m\u001b[0m\n\u001b[0m\u001b[1;32m      5\u001b[0m   \u001b[0;31m# convert from integers to floats\u001b[0m\u001b[0;34m\u001b[0m\u001b[0;34m\u001b[0m\u001b[0;34m\u001b[0m\u001b[0m\n\u001b[1;32m      6\u001b[0m   \u001b[0mpixels\u001b[0m \u001b[0;34m=\u001b[0m \u001b[0mpixels\u001b[0m\u001b[0;34m.\u001b[0m\u001b[0mastype\u001b[0m\u001b[0;34m(\u001b[0m\u001b[0;34m'float32'\u001b[0m\u001b[0;34m)\u001b[0m\u001b[0;34m\u001b[0m\u001b[0;34m\u001b[0m\u001b[0m\n",
            "\u001b[0;31mAttributeError\u001b[0m: 'Image' object has no attribute 'min'"
          ]
        }
      ]
    },
    {
      "cell_type": "code",
      "metadata": {
        "id": "O9KJbm2Ok2NE",
        "colab_type": "code",
        "colab": {
          "base_uri": "https://localhost:8080/",
          "height": 67
        },
        "outputId": "501a8860-90b4-4d8e-c0b5-3338d395a61f"
      },
      "source": [
        "i = 1\n",
        "print(type(trainX[i]))\n",
        "print(len(trainX[i]))\n",
        "print(len(trainX[i][i]))"
      ],
      "execution_count": 30,
      "outputs": [
        {
          "output_type": "stream",
          "text": [
            "<class 'numpy.ndarray'>\n",
            "398\n",
            "309\n"
          ],
          "name": "stdout"
        }
      ]
    },
    {
      "cell_type": "code",
      "metadata": {
        "id": "eGBNuJd__h00",
        "colab_type": "code",
        "colab": {
          "base_uri": "https://localhost:8080/",
          "height": 1000
        },
        "outputId": "63ca55d5-971a-4ee8-fd40-996a801042fb"
      },
      "source": [
        "print(trainX[0][0])"
      ],
      "execution_count": 22,
      "outputs": [
        {
          "output_type": "stream",
          "text": [
            "[[0.         0.         0.01568628]\n",
            " [0.         0.         0.01568628]\n",
            " [0.         0.         0.01568628]\n",
            " [0.         0.         0.01568628]\n",
            " [0.         0.         0.01568628]\n",
            " [0.         0.         0.01568628]\n",
            " [0.         0.         0.01568628]\n",
            " [0.         0.         0.01568628]\n",
            " [0.         0.         0.01568628]\n",
            " [0.         0.         0.01568628]\n",
            " [0.         0.         0.01568628]\n",
            " [0.         0.         0.01568628]\n",
            " [0.         0.         0.01568628]\n",
            " [0.         0.         0.01568628]\n",
            " [0.         0.         0.01568628]\n",
            " [0.         0.         0.01568628]\n",
            " [0.         0.         0.        ]\n",
            " [0.         0.         0.        ]\n",
            " [0.         0.         0.        ]\n",
            " [0.         0.         0.        ]\n",
            " [0.         0.         0.        ]\n",
            " [0.         0.         0.        ]\n",
            " [0.         0.         0.        ]\n",
            " [0.         0.         0.        ]\n",
            " [0.         0.         0.        ]\n",
            " [0.         0.         0.        ]\n",
            " [0.         0.         0.        ]\n",
            " [0.         0.         0.        ]\n",
            " [0.         0.         0.        ]\n",
            " [0.         0.         0.        ]\n",
            " [0.         0.         0.        ]\n",
            " [0.         0.         0.        ]\n",
            " [0.         0.         0.00784314]\n",
            " [0.         0.         0.00784314]\n",
            " [0.         0.         0.00784314]\n",
            " [0.         0.         0.00784314]\n",
            " [0.         0.         0.00784314]\n",
            " [0.         0.         0.00784314]\n",
            " [0.         0.         0.00784314]\n",
            " [0.         0.         0.00784314]\n",
            " [0.         0.         0.00784314]\n",
            " [0.         0.         0.00784314]\n",
            " [0.         0.         0.00784314]\n",
            " [0.         0.         0.00784314]\n",
            " [0.         0.         0.00784314]\n",
            " [0.         0.         0.00784314]\n",
            " [0.         0.         0.00784314]\n",
            " [0.         0.         0.00784314]\n",
            " [0.00784314 0.         0.01176471]\n",
            " [0.00784314 0.         0.01176471]\n",
            " [0.00784314 0.         0.01176471]\n",
            " [0.00784314 0.         0.01176471]\n",
            " [0.00784314 0.         0.01176471]\n",
            " [0.00784314 0.         0.01176471]\n",
            " [0.00784314 0.         0.01176471]\n",
            " [0.00784314 0.         0.01176471]\n",
            " [0.00784314 0.         0.01176471]\n",
            " [0.00784314 0.         0.01176471]\n",
            " [0.00784314 0.         0.01176471]\n",
            " [0.00784314 0.         0.01176471]\n",
            " [0.00784314 0.         0.01176471]\n",
            " [0.00784314 0.         0.01176471]\n",
            " [0.00784314 0.         0.01176471]\n",
            " [0.00784314 0.         0.01176471]\n",
            " [0.01960784 0.01960784 0.01960784]\n",
            " [0.01960784 0.01960784 0.01960784]\n",
            " [0.01568628 0.01568628 0.01568628]\n",
            " [0.01176471 0.01176471 0.01176471]\n",
            " [0.00392157 0.00392157 0.00392157]\n",
            " [0.         0.         0.        ]\n",
            " [0.         0.         0.        ]\n",
            " [0.         0.         0.        ]\n",
            " [0.01176471 0.01176471 0.01176471]\n",
            " [0.01176471 0.01176471 0.01176471]\n",
            " [0.00784314 0.00784314 0.00784314]\n",
            " [0.00392157 0.00392157 0.00392157]\n",
            " [0.         0.         0.        ]\n",
            " [0.         0.         0.        ]\n",
            " [0.         0.         0.        ]\n",
            " [0.         0.         0.        ]\n",
            " [0.01176471 0.01176471 0.01176471]\n",
            " [0.01176471 0.01176471 0.01176471]\n",
            " [0.01176471 0.01176471 0.01176471]\n",
            " [0.00784314 0.00784314 0.00784314]\n",
            " [0.00392157 0.00392157 0.00392157]\n",
            " [0.00392157 0.00392157 0.00392157]\n",
            " [0.         0.         0.        ]\n",
            " [0.         0.         0.        ]\n",
            " [0.01960784 0.01960784 0.01960784]\n",
            " [0.01960784 0.01960784 0.01960784]\n",
            " [0.01568628 0.01568628 0.01568628]\n",
            " [0.01568628 0.01568628 0.01568628]\n",
            " [0.01176471 0.01176471 0.01176471]\n",
            " [0.00784314 0.00784314 0.00784314]\n",
            " [0.00392157 0.00392157 0.00392157]\n",
            " [0.00392157 0.00392157 0.00392157]\n",
            " [0.         0.         0.        ]\n",
            " [0.         0.         0.        ]\n",
            " [0.         0.         0.        ]\n",
            " [0.         0.         0.        ]\n",
            " [0.         0.         0.        ]\n",
            " [0.         0.         0.        ]\n",
            " [0.         0.         0.        ]\n",
            " [0.00392157 0.00392157 0.00392157]\n",
            " [0.00784314 0.00784314 0.00784314]\n",
            " [0.00784314 0.00784314 0.00784314]\n",
            " [0.00392157 0.00392157 0.00392157]\n",
            " [0.00392157 0.00392157 0.00392157]\n",
            " [0.         0.         0.        ]\n",
            " [0.         0.         0.        ]\n",
            " [0.         0.         0.        ]\n",
            " [0.         0.         0.        ]\n",
            " [0.01176471 0.01176471 0.01176471]\n",
            " [0.00784314 0.00784314 0.00784314]\n",
            " [0.00784314 0.00784314 0.00784314]\n",
            " [0.00392157 0.00392157 0.00392157]\n",
            " [0.         0.         0.        ]\n",
            " [0.         0.         0.        ]\n",
            " [0.         0.         0.        ]\n",
            " [0.         0.         0.        ]\n",
            " [0.         0.         0.        ]\n",
            " [0.         0.         0.        ]\n",
            " [0.         0.         0.        ]\n",
            " [0.         0.         0.        ]\n",
            " [0.00392157 0.00392157 0.00392157]\n",
            " [0.00392157 0.00392157 0.00392157]\n",
            " [0.00784314 0.00784314 0.00784314]\n",
            " [0.00784314 0.00784314 0.00784314]\n",
            " [0.         0.         0.        ]\n",
            " [0.         0.         0.        ]\n",
            " [0.         0.         0.        ]\n",
            " [0.         0.         0.        ]\n",
            " [0.         0.         0.        ]\n",
            " [0.         0.         0.        ]\n",
            " [0.00392157 0.00392157 0.00392157]\n",
            " [0.00392157 0.00392157 0.01176471]\n",
            " [0.         0.         0.00784314]\n",
            " [0.         0.         0.00784314]\n",
            " [0.         0.         0.00784314]\n",
            " [0.         0.         0.01568628]\n",
            " [0.00784314 0.00392157 0.02352941]\n",
            " [0.01568628 0.01176471 0.03137255]\n",
            " [0.02352941 0.01960784 0.03921569]\n",
            " [0.02745098 0.02352941 0.04313726]\n",
            " [0.01568628 0.         0.01960784]\n",
            " [0.01568628 0.         0.01960784]\n",
            " [0.01568628 0.         0.01960784]\n",
            " [0.01960784 0.         0.02745098]\n",
            " [0.02352941 0.00392157 0.03137255]\n",
            " [0.03137255 0.01176471 0.03921569]\n",
            " [0.03529412 0.01568628 0.03921569]\n",
            " [0.02745098 0.01960784 0.03921569]\n",
            " [0.01568628 0.00784314 0.02745098]\n",
            " [0.01176471 0.00392157 0.01568628]\n",
            " [0.00784314 0.00784314 0.01568628]\n",
            " [0.00784314 0.00784314 0.01568628]\n",
            " [0.00392157 0.00392157 0.01176471]\n",
            " [0.00392157 0.00392157 0.00392157]\n",
            " [0.         0.         0.        ]\n",
            " [0.         0.         0.        ]\n",
            " [0.         0.         0.        ]\n",
            " [0.         0.         0.        ]\n",
            " [0.00392157 0.00392157 0.        ]\n",
            " [0.00392157 0.00392157 0.00392157]\n",
            " [0.00392157 0.00392157 0.00392157]\n",
            " [0.00392157 0.00392157 0.00392157]\n",
            " [0.00392157 0.00392157 0.00392157]\n",
            " [0.00392157 0.00392157 0.01176471]\n",
            " [0.         0.         0.00784314]\n",
            " [0.         0.         0.00784314]\n",
            " [0.         0.         0.00784314]\n",
            " [0.         0.         0.01568628]\n",
            " [0.         0.         0.01568628]\n",
            " [0.00784314 0.00392157 0.02352941]\n",
            " [0.01176471 0.00784314 0.02745098]\n",
            " [0.01568628 0.01176471 0.03137255]\n",
            " [0.01176471 0.01176471 0.01960784]\n",
            " [0.00784314 0.00784314 0.01568628]\n",
            " [0.00784314 0.00784314 0.01568628]\n",
            " [0.00784314 0.00784314 0.01568628]\n",
            " [0.00392157 0.00392157 0.01176471]\n",
            " [0.00392157 0.00392157 0.01176471]\n",
            " [0.         0.         0.00784314]\n",
            " [0.         0.         0.00784314]\n",
            " [0.00392157 0.00392157 0.01176471]\n",
            " [0.00392157 0.00392157 0.01176471]\n",
            " [0.00392157 0.00392157 0.01176471]\n",
            " [0.00392157 0.00392157 0.01176471]\n",
            " [0.00392157 0.00392157 0.01176471]\n",
            " [0.00392157 0.00392157 0.01176471]\n",
            " [0.00784314 0.00784314 0.01568628]\n",
            " [0.00784314 0.00784314 0.01568628]\n",
            " [0.01176471 0.00392157 0.00784314]\n",
            " [0.00784314 0.         0.00392157]\n",
            " [0.00784314 0.         0.00392157]\n",
            " [0.00784314 0.         0.00392157]\n",
            " [0.01176471 0.00392157 0.00784314]\n",
            " [0.01568628 0.00784314 0.01176471]\n",
            " [0.01960784 0.01176471 0.01568628]\n",
            " [0.01960784 0.01176471 0.01568628]\n",
            " [0.00392157 0.         0.        ]\n",
            " [0.00392157 0.         0.        ]\n",
            " [0.00784314 0.         0.00392157]\n",
            " [0.01176471 0.00392157 0.00784314]\n",
            " [0.01568628 0.00784314 0.01176471]\n",
            " [0.01960784 0.01176471 0.01568628]\n",
            " [0.02352941 0.01568628 0.01960784]\n",
            " [0.02352941 0.01568628 0.01960784]\n",
            " [0.00392157 0.         0.        ]\n",
            " [0.00392157 0.         0.        ]\n",
            " [0.00392157 0.         0.        ]\n",
            " [0.00392157 0.         0.        ]\n",
            " [0.00784314 0.         0.00392157]\n",
            " [0.00784314 0.         0.00392157]\n",
            " [0.01176471 0.00392157 0.00784314]\n",
            " [0.01176471 0.00392157 0.00784314]\n",
            " [0.01568628 0.00784314 0.01176471]\n",
            " [0.01568628 0.00784314 0.01176471]\n",
            " [0.01176471 0.00392157 0.00784314]\n",
            " [0.01176471 0.00392157 0.00784314]\n",
            " [0.00784314 0.         0.00392157]\n",
            " [0.00392157 0.         0.        ]\n",
            " [0.00392157 0.         0.        ]\n",
            " [0.00392157 0.         0.        ]\n",
            " [0.00392157 0.         0.        ]\n",
            " [0.00392157 0.         0.        ]\n",
            " [0.00392157 0.         0.        ]\n",
            " [0.00392157 0.         0.        ]\n",
            " [0.00392157 0.         0.        ]\n",
            " [0.00392157 0.         0.        ]\n",
            " [0.00392157 0.         0.        ]\n",
            " [0.00784314 0.00392157 0.        ]\n",
            " [0.00392157 0.         0.        ]\n",
            " [0.00392157 0.         0.        ]\n",
            " [0.00784314 0.00392157 0.        ]\n",
            " [0.00784314 0.00392157 0.        ]\n",
            " [0.00784314 0.00392157 0.        ]\n",
            " [0.00392157 0.         0.        ]\n",
            " [0.00392157 0.         0.        ]\n",
            " [0.00392157 0.         0.        ]\n",
            " [0.01176471 0.00784314 0.        ]\n",
            " [0.00784314 0.00392157 0.        ]\n",
            " [0.00784314 0.00392157 0.        ]\n",
            " [0.00784314 0.00392157 0.        ]\n",
            " [0.00392157 0.         0.        ]\n",
            " [0.00392157 0.         0.        ]\n",
            " [0.00392157 0.         0.        ]\n",
            " [0.00392157 0.         0.        ]\n",
            " [0.00392157 0.         0.        ]\n",
            " [0.00392157 0.         0.        ]\n",
            " [0.00392157 0.         0.        ]\n",
            " [0.00392157 0.         0.        ]\n",
            " [0.00392157 0.         0.        ]\n",
            " [0.00392157 0.         0.        ]\n",
            " [0.00392157 0.         0.        ]\n",
            " [0.00392157 0.         0.        ]\n",
            " [0.00392157 0.00392157 0.        ]\n",
            " [0.00392157 0.00392157 0.        ]\n",
            " [0.00392157 0.00392157 0.        ]\n",
            " [0.00392157 0.00392157 0.        ]\n",
            " [0.00392157 0.00392157 0.        ]\n",
            " [0.00392157 0.00392157 0.        ]\n",
            " [0.00392157 0.00392157 0.        ]\n",
            " [0.00784314 0.00784314 0.        ]\n",
            " [0.00392157 0.00392157 0.        ]\n",
            " [0.00392157 0.00392157 0.        ]\n",
            " [0.00392157 0.00392157 0.        ]\n",
            " [0.00784314 0.00784314 0.        ]\n",
            " [0.00784314 0.00784314 0.        ]\n",
            " [0.00784314 0.00784314 0.        ]\n",
            " [0.01176471 0.01176471 0.        ]\n",
            " [0.01176471 0.01176471 0.        ]\n",
            " [0.00392157 0.00392157 0.        ]\n",
            " [0.00392157 0.00392157 0.        ]\n",
            " [0.00392157 0.00392157 0.        ]\n",
            " [0.00392157 0.00392157 0.        ]\n",
            " [0.00784314 0.00784314 0.        ]\n",
            " [0.01960784 0.01960784 0.        ]\n",
            " [0.03137255 0.03137255 0.        ]\n",
            " [0.03921569 0.03921569 0.00784314]\n",
            " [0.0627451  0.0627451  0.03137255]\n",
            " [0.07058824 0.07058824 0.03921569]\n",
            " [0.08627451 0.08627451 0.05490196]\n",
            " [0.10980392 0.10980392 0.07843138]\n",
            " [0.12941177 0.12941177 0.09803922]\n",
            " [0.15294118 0.15294118 0.12156863]\n",
            " [0.16862746 0.16862746 0.13725491]\n",
            " [0.1764706  0.1764706  0.14509805]\n",
            " [0.22352941 0.22745098 0.17254902]\n",
            " [0.23529412 0.23921569 0.18431373]\n",
            " [0.25882354 0.2627451  0.20784314]\n",
            " [0.2901961  0.2901961  0.24313726]\n",
            " [0.3254902  0.3254902  0.2784314 ]\n",
            " [0.35686275 0.35686275 0.30980393]\n",
            " [0.38039216 0.38039216 0.33333334]\n",
            " [0.39215687 0.39215687 0.3529412 ]\n",
            " [0.4509804  0.4509804  0.4117647 ]\n",
            " [0.4509804  0.4509804  0.4117647 ]]\n"
          ],
          "name": "stdout"
        }
      ]
    },
    {
      "cell_type": "markdown",
      "metadata": {
        "id": "98-lSPDu_hhj",
        "colab_type": "text"
      },
      "source": [
        ""
      ]
    },
    {
      "cell_type": "code",
      "metadata": {
        "id": "rzjZmGhItSVY",
        "colab_type": "code",
        "colab": {}
      },
      "source": [
        "from sklearn import decomposition\n",
        "from sklearn.cluster import MiniBatchKMeans\n",
        "from sklearn.datasets import fetch_olivetti_faces\n",
        "import matplotlib.pyplot as plt\n",
        "from numpy.random import RandomState\n",
        "from time import time\n",
        "import logging"
      ],
      "execution_count": 9,
      "outputs": []
    },
    {
      "cell_type": "code",
      "metadata": {
        "id": "NpObIq55-VZC",
        "colab_type": "code",
        "colab": {
          "base_uri": "https://localhost:8080/",
          "height": 33
        },
        "outputId": "04b44909-bf9a-46f4-ffef-8ead020ba02a"
      },
      "source": [
        "faces, _ = fetch_olivetti_faces(return_X_y=True, shuffle=True,random_state=RandomState(0))\n",
        "n_samples, n_features = faces.shape"
      ],
      "execution_count": 11,
      "outputs": [
        {
          "output_type": "stream",
          "text": [
            "downloading Olivetti faces from https://ndownloader.figshare.com/files/5976027 to /root/scikit_learn_data\n"
          ],
          "name": "stdout"
        }
      ]
    },
    {
      "cell_type": "code",
      "metadata": {
        "id": "lt4lSLny-VVC",
        "colab_type": "code",
        "colab": {
          "base_uri": "https://localhost:8080/",
          "height": 67
        },
        "outputId": "667cf390-0772-4d33-bdc8-ca7903e43eb0"
      },
      "source": [
        "print(type(faces))\n",
        "print(len(faces[0]))\n",
        "print(faces[0])"
      ],
      "execution_count": 24,
      "outputs": [
        {
          "output_type": "stream",
          "text": [
            "<class 'numpy.ndarray'>\n",
            "4096\n",
            "[0.6694215  0.6363636  0.6487603  ... 0.08677686 0.08264463 0.07438017]\n"
          ],
          "name": "stdout"
        }
      ]
    },
    {
      "cell_type": "markdown",
      "metadata": {
        "id": "Uc1_xLTe-TC6",
        "colab_type": "text"
      },
      "source": [
        ""
      ]
    },
    {
      "cell_type": "code",
      "metadata": {
        "id": "foSnhqhawBN0",
        "colab_type": "code",
        "colab": {}
      },
      "source": [
        "# Display progress logs on stdout\n",
        "logging.basicConfig(level=logging.INFO,\n",
        "                    format='%(asctime)s %(levelname)s %(message)s')"
      ],
      "execution_count": 37,
      "outputs": []
    },
    {
      "cell_type": "code",
      "metadata": {
        "id": "YQFYBJB7wHWJ",
        "colab_type": "code",
        "colab": {
          "base_uri": "https://localhost:8080/",
          "height": 33
        },
        "outputId": "7a69c971-6c72-40b5-bae0-d0c602f96582"
      },
      "source": [
        "n_row, n_col = 2, 3\n",
        "n_components = n_row * n_col\n",
        "image_shape = (64, 64)\n",
        "rng = RandomState(0)\n",
        "faces, _ = fetch_olivetti_faces(return_X_y=True, shuffle=True,random_state=rng)\n",
        "n_samples, n_features = faces.shape"
      ],
      "execution_count": 41,
      "outputs": [
        {
          "output_type": "stream",
          "text": [
            "downloading Olivetti faces from https://ndownloader.figshare.com/files/5976027 to /root/scikit_learn_data\n"
          ],
          "name": "stdout"
        }
      ]
    },
    {
      "cell_type": "code",
      "metadata": {
        "id": "GdCyFfLRwTlr",
        "colab_type": "code",
        "colab": {
          "base_uri": "https://localhost:8080/",
          "height": 50
        },
        "outputId": "8ce0f6a5-9849-4cfb-91fc-01ac3250930c"
      },
      "source": [
        "faces[0]"
      ],
      "execution_count": 55,
      "outputs": [
        {
          "output_type": "execute_result",
          "data": {
            "text/plain": [
              "array([0.6694215 , 0.6363636 , 0.6487603 , ..., 0.08677686, 0.08264463,\n",
              "       0.07438017], dtype=float32)"
            ]
          },
          "metadata": {
            "tags": []
          },
          "execution_count": 55
        }
      ]
    }
  ]
}